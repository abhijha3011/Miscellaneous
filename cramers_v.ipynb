{
 "cells": [
  {
   "attachments": {},
   "cell_type": "markdown",
   "metadata": {},
   "source": [
    "The main purpose of this notebook is to calculate correlation between categorical variable"
   ]
  },
  {
   "cell_type": "code",
   "execution_count": 2,
   "metadata": {},
   "outputs": [],
   "source": [
    "from scipy.stats import chi2_contingency\n",
    "import pandas as pd\n",
    "import numpy as np"
   ]
  },
  {
   "cell_type": "code",
   "execution_count": 3,
   "metadata": {},
   "outputs": [],
   "source": [
    "def Custom_cramersV(x,y):\n",
    "    if x.nunique() <2 or y.nunique() < 2:\n",
    "        return 0\n",
    "    matrix = pd.crosstab(x,y)\n",
    "    chi2 = chi2_contingency(matrix)[0]\n",
    "    n = matrix.sum().sum()\n",
    "    phi2 = chi2/n\n",
    "    r, k = matrix.shape\n",
    "    phi2corr = max(0, phi2-((k-1)*(r-1))/(n-1))\n",
    "    rcorr = r-((r-1)**2)/(n-1)\n",
    "    kcorr = k-((k-1)**2)/(n-1)\n",
    "    return np.sqrt(phi2corr/min((kcorr-1),(rcorr-1)))\n",
    "def create_corr_matrix(df):\n",
    "    lst1 = []\n",
    "    lst2 = []\n",
    "    corr_matrix = pd.DataFrame(index = df.columns,columns = df.columns)\n",
    "    for i in range(len(corr_matrix.columns)):\n",
    "        for j in range(i,len(corr_matrix.columns)):\n",
    "            col1 = corr_matrix.columns[i]\n",
    "            col2 = corr_matrix.columns[j]\n",
    "            lst1.append(col1)\n",
    "            lst2.append(col2)\n",
    "            col_pair = [(k,v) for k,v in zip(lst1,lst2)]\n",
    "            if df[col1].dtype =='object' and df[col2].dtype == 'object':\n",
    "                corr_matrix.at[col1,col2] = Custom_cramersV(df[col1],df[col2])\n",
    "                corr_matrix.at[col2,col1] = corr_matrix.at[col1,col2]\n",
    "    return corr_matrix,col_pair\n"
   ]
  },
  {
   "cell_type": "code",
   "execution_count": 8,
   "metadata": {},
   "outputs": [
    {
     "name": "stdout",
     "output_type": "stream",
     "text": [
      "   gender age_range marital_status product_preference target\n",
      "0    male     18-24         single                  A    yes\n",
      "1     NaN     25-34        married                  B     no\n",
      "2    male     35-44         single                  A     no\n",
      "3    male     18-24        married                  B    yes\n",
      "4  female     25-34         single                  C     no\n"
     ]
    }
   ],
   "source": [
    "import pandas as pd\n",
    "\n",
    "# !create a dictionary with categorical features and target\n",
    "data = {\n",
    "    'gender': ['male', np.nan, 'male', 'male', 'female'],\n",
    "    'age_range': ['18-24', '25-34', '35-44', '18-24', '25-34'],\n",
    "    'marital_status': ['single', 'married', 'single', 'married', 'single'],\n",
    "    'product_preference': ['A', 'B', 'A', 'B', 'C'],\n",
    "    'target': ['yes', 'no', 'no', 'yes', 'no']\n",
    "}\n",
    "\n",
    "# create a DataFrame from the dictionary\n",
    "df = pd.DataFrame(data)\n",
    "\n",
    "# display the DataFrame\n",
    "print(df)\n"
   ]
  },
  {
   "cell_type": "code",
   "execution_count": 9,
   "metadata": {},
   "outputs": [],
   "source": [
    "corr_matrix,col_pair = create_corr_matrix(df)"
   ]
  },
  {
   "cell_type": "code",
   "execution_count": 10,
   "metadata": {},
   "outputs": [
    {
     "data": {
      "text/html": [
       "<div>\n",
       "<style scoped>\n",
       "    .dataframe tbody tr th:only-of-type {\n",
       "        vertical-align: middle;\n",
       "    }\n",
       "\n",
       "    .dataframe tbody tr th {\n",
       "        vertical-align: top;\n",
       "    }\n",
       "\n",
       "    .dataframe thead th {\n",
       "        text-align: right;\n",
       "    }\n",
       "</style>\n",
       "<table border=\"1\" class=\"dataframe\">\n",
       "  <thead>\n",
       "    <tr style=\"text-align: right;\">\n",
       "      <th></th>\n",
       "      <th>gender</th>\n",
       "      <th>age_range</th>\n",
       "      <th>marital_status</th>\n",
       "      <th>product_preference</th>\n",
       "      <th>target</th>\n",
       "    </tr>\n",
       "  </thead>\n",
       "  <tbody>\n",
       "    <tr>\n",
       "      <th>gender</th>\n",
       "      <td>0.0</td>\n",
       "      <td>0.707107</td>\n",
       "      <td>0.0</td>\n",
       "      <td>0.707107</td>\n",
       "      <td>0.0</td>\n",
       "    </tr>\n",
       "    <tr>\n",
       "      <th>age_range</th>\n",
       "      <td>0.707107</td>\n",
       "      <td>1.0</td>\n",
       "      <td>0.0</td>\n",
       "      <td>0.0</td>\n",
       "      <td>0.816497</td>\n",
       "    </tr>\n",
       "    <tr>\n",
       "      <th>marital_status</th>\n",
       "      <td>0.0</td>\n",
       "      <td>0.0</td>\n",
       "      <td>0.346944</td>\n",
       "      <td>0.816497</td>\n",
       "      <td>0.0</td>\n",
       "    </tr>\n",
       "    <tr>\n",
       "      <th>product_preference</th>\n",
       "      <td>0.707107</td>\n",
       "      <td>0.0</td>\n",
       "      <td>0.816497</td>\n",
       "      <td>1.0</td>\n",
       "      <td>0.0</td>\n",
       "    </tr>\n",
       "    <tr>\n",
       "      <th>target</th>\n",
       "      <td>0.0</td>\n",
       "      <td>0.816497</td>\n",
       "      <td>0.0</td>\n",
       "      <td>0.0</td>\n",
       "      <td>0.346944</td>\n",
       "    </tr>\n",
       "  </tbody>\n",
       "</table>\n",
       "</div>"
      ],
      "text/plain": [
       "                      gender age_range marital_status product_preference  \\\n",
       "gender                   0.0  0.707107            0.0           0.707107   \n",
       "age_range           0.707107       1.0            0.0                0.0   \n",
       "marital_status           0.0       0.0       0.346944           0.816497   \n",
       "product_preference  0.707107       0.0       0.816497                1.0   \n",
       "target                   0.0  0.816497            0.0                0.0   \n",
       "\n",
       "                      target  \n",
       "gender                   0.0  \n",
       "age_range           0.816497  \n",
       "marital_status           0.0  \n",
       "product_preference       0.0  \n",
       "target              0.346944  "
      ]
     },
     "execution_count": 10,
     "metadata": {},
     "output_type": "execute_result"
    }
   ],
   "source": [
    "corr_matrix"
   ]
  },
  {
   "cell_type": "code",
   "execution_count": 7,
   "metadata": {},
   "outputs": [
    {
     "data": {
      "text/plain": [
       "[('gender', 'gender'),\n",
       " ('gender', 'age_range'),\n",
       " ('gender', 'marital_status'),\n",
       " ('gender', 'product_preference'),\n",
       " ('gender', 'target'),\n",
       " ('age_range', 'age_range'),\n",
       " ('age_range', 'marital_status'),\n",
       " ('age_range', 'product_preference'),\n",
       " ('age_range', 'target'),\n",
       " ('marital_status', 'marital_status'),\n",
       " ('marital_status', 'product_preference'),\n",
       " ('marital_status', 'target'),\n",
       " ('product_preference', 'product_preference'),\n",
       " ('product_preference', 'target'),\n",
       " ('target', 'target')]"
      ]
     },
     "execution_count": 7,
     "metadata": {},
     "output_type": "execute_result"
    }
   ],
   "source": [
    "col_pair"
   ]
  },
  {
   "cell_type": "code",
   "execution_count": null,
   "metadata": {},
   "outputs": [],
   "source": []
  }
 ],
 "metadata": {
  "kernelspec": {
   "display_name": "Python 3",
   "language": "python",
   "name": "python3"
  },
  "language_info": {
   "codemirror_mode": {
    "name": "ipython",
    "version": 3
   },
   "file_extension": ".py",
   "mimetype": "text/x-python",
   "name": "python",
   "nbconvert_exporter": "python",
   "pygments_lexer": "ipython3",
   "version": "3.9.7"
  },
  "orig_nbformat": 4,
  "vscode": {
   "interpreter": {
    "hash": "38b59a1f0bb6ba006a6dc9938aadcf2e98e7418078a2e9ca36cc49571a74747d"
   }
  }
 },
 "nbformat": 4,
 "nbformat_minor": 2
}
